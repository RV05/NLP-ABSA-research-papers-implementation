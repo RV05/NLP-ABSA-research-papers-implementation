{
  "nbformat": 4,
  "nbformat_minor": 0,
  "metadata": {
    "colab": {
      "name": "DUALGCNipynb.ipynb",
      "provenance": [],
      "include_colab_link": true
    },
    "kernelspec": {
      "name": "python3",
      "display_name": "Python 3"
    },
    "language_info": {
      "name": "python"
    },
    "accelerator": "GPU"
  },
  "cells": [
    {
      "cell_type": "markdown",
      "metadata": {
        "id": "view-in-github",
        "colab_type": "text"
      },
      "source": [
        "<a href=\"https://colab.research.google.com/github/RV05/NLP-ABSA-research-papers-implementation/blob/main/DUALGCNipynb.ipynb\" target=\"_parent\"><img src=\"https://colab.research.google.com/assets/colab-badge.svg\" alt=\"Open In Colab\"/></a>"
      ]
    },
    {
      "cell_type": "code",
      "source": [
        "!git clone https://github.com/CCChenhao997/DualGCN-ABSA.git"
      ],
      "metadata": {
        "colab": {
          "base_uri": "https://localhost:8080/"
        },
        "id": "s28L_gEh2res",
        "outputId": "11873ce1-1a84-4f34-ef8c-7ceb9b331f82"
      },
      "execution_count": null,
      "outputs": [
        {
          "output_type": "stream",
          "name": "stdout",
          "text": [
            "Cloning into 'DualGCN-ABSA'...\n",
            "remote: Enumerating objects: 189, done.\u001b[K\n",
            "remote: Counting objects: 100% (189/189), done.\u001b[K\n",
            "remote: Compressing objects: 100% (132/132), done.\u001b[K\n",
            "remote: Total 189 (delta 53), reused 183 (delta 50), pack-reused 0\u001b[K\n",
            "Receiving objects: 100% (189/189), 4.97 MiB | 12.91 MiB/s, done.\n",
            "Resolving deltas: 100% (53/53), done.\n"
          ]
        }
      ]
    },
    {
      "cell_type": "code",
      "source": [
        "cd /content/DualGCN-ABSA"
      ],
      "metadata": {
        "colab": {
          "base_uri": "https://localhost:8080/"
        },
        "id": "KZ7qRRgT2rbz",
        "outputId": "6550e8a8-9e43-4328-bf7e-4a1ae3bedf85"
      },
      "execution_count": null,
      "outputs": [
        {
          "output_type": "stream",
          "name": "stdout",
          "text": [
            "/content/DualGCN-ABSA\n"
          ]
        }
      ]
    },
    {
      "cell_type": "code",
      "source": [
        "!pip install -r requirements.txt"
      ],
      "metadata": {
        "colab": {
          "base_uri": "https://localhost:8080/"
        },
        "id": "-lAtIwAR2rZe",
        "outputId": "8ae175a0-91b0-4cb7-ba45-4bbaec8c1ecc"
      },
      "execution_count": null,
      "outputs": [
        {
          "output_type": "stream",
          "name": "stdout",
          "text": [
            "Collecting torch==1.4.0\n",
            "  Downloading torch-1.4.0-cp37-cp37m-manylinux1_x86_64.whl (753.4 MB)\n",
            "\u001b[K     |████████████████████████████████| 753.4 MB 6.8 kB/s \n",
            "\u001b[?25hCollecting scikit-learn==0.23.2\n",
            "  Downloading scikit_learn-0.23.2-cp37-cp37m-manylinux1_x86_64.whl (6.8 MB)\n",
            "\u001b[K     |████████████████████████████████| 6.8 MB 38.1 MB/s \n",
            "\u001b[?25hCollecting transformers==3.2.0\n",
            "  Downloading transformers-3.2.0-py3-none-any.whl (1.0 MB)\n",
            "\u001b[K     |████████████████████████████████| 1.0 MB 35.4 MB/s \n",
            "\u001b[?25hCollecting cython==0.29.13\n",
            "  Downloading Cython-0.29.13-cp37-cp37m-manylinux1_x86_64.whl (2.1 MB)\n",
            "\u001b[K     |████████████████████████████████| 2.1 MB 37.0 MB/s \n",
            "\u001b[?25hCollecting nltk==3.5\n",
            "  Downloading nltk-3.5.zip (1.4 MB)\n",
            "\u001b[K     |████████████████████████████████| 1.4 MB 33.2 MB/s \n",
            "\u001b[?25hRequirement already satisfied: threadpoolctl>=2.0.0 in /usr/local/lib/python3.7/dist-packages (from scikit-learn==0.23.2->-r requirements.txt (line 2)) (3.0.0)\n",
            "Requirement already satisfied: numpy>=1.13.3 in /usr/local/lib/python3.7/dist-packages (from scikit-learn==0.23.2->-r requirements.txt (line 2)) (1.19.5)\n",
            "Requirement already satisfied: joblib>=0.11 in /usr/local/lib/python3.7/dist-packages (from scikit-learn==0.23.2->-r requirements.txt (line 2)) (1.1.0)\n",
            "Requirement already satisfied: scipy>=0.19.1 in /usr/local/lib/python3.7/dist-packages (from scikit-learn==0.23.2->-r requirements.txt (line 2)) (1.4.1)\n",
            "Collecting tokenizers==0.8.1.rc2\n",
            "  Downloading tokenizers-0.8.1rc2-cp37-cp37m-manylinux1_x86_64.whl (3.0 MB)\n",
            "\u001b[K     |████████████████████████████████| 3.0 MB 38.7 MB/s \n",
            "\u001b[?25hRequirement already satisfied: requests in /usr/local/lib/python3.7/dist-packages (from transformers==3.2.0->-r requirements.txt (line 3)) (2.23.0)\n",
            "Collecting sentencepiece!=0.1.92\n",
            "  Downloading sentencepiece-0.1.96-cp37-cp37m-manylinux_2_17_x86_64.manylinux2014_x86_64.whl (1.2 MB)\n",
            "\u001b[K     |████████████████████████████████| 1.2 MB 45.2 MB/s \n",
            "\u001b[?25hRequirement already satisfied: tqdm>=4.27 in /usr/local/lib/python3.7/dist-packages (from transformers==3.2.0->-r requirements.txt (line 3)) (4.62.3)\n",
            "Requirement already satisfied: regex!=2019.12.17 in /usr/local/lib/python3.7/dist-packages (from transformers==3.2.0->-r requirements.txt (line 3)) (2019.12.20)\n",
            "Collecting sacremoses\n",
            "  Downloading sacremoses-0.0.46-py3-none-any.whl (895 kB)\n",
            "\u001b[K     |████████████████████████████████| 895 kB 50.1 MB/s \n",
            "\u001b[?25hRequirement already satisfied: filelock in /usr/local/lib/python3.7/dist-packages (from transformers==3.2.0->-r requirements.txt (line 3)) (3.4.0)\n",
            "Requirement already satisfied: packaging in /usr/local/lib/python3.7/dist-packages (from transformers==3.2.0->-r requirements.txt (line 3)) (21.3)\n",
            "Requirement already satisfied: click in /usr/local/lib/python3.7/dist-packages (from nltk==3.5->-r requirements.txt (line 5)) (7.1.2)\n",
            "Requirement already satisfied: pyparsing!=3.0.5,>=2.0.2 in /usr/local/lib/python3.7/dist-packages (from packaging->transformers==3.2.0->-r requirements.txt (line 3)) (3.0.6)\n",
            "Requirement already satisfied: chardet<4,>=3.0.2 in /usr/local/lib/python3.7/dist-packages (from requests->transformers==3.2.0->-r requirements.txt (line 3)) (3.0.4)\n",
            "Requirement already satisfied: urllib3!=1.25.0,!=1.25.1,<1.26,>=1.21.1 in /usr/local/lib/python3.7/dist-packages (from requests->transformers==3.2.0->-r requirements.txt (line 3)) (1.24.3)\n",
            "Requirement already satisfied: certifi>=2017.4.17 in /usr/local/lib/python3.7/dist-packages (from requests->transformers==3.2.0->-r requirements.txt (line 3)) (2021.10.8)\n",
            "Requirement already satisfied: idna<3,>=2.5 in /usr/local/lib/python3.7/dist-packages (from requests->transformers==3.2.0->-r requirements.txt (line 3)) (2.10)\n",
            "Requirement already satisfied: six in /usr/local/lib/python3.7/dist-packages (from sacremoses->transformers==3.2.0->-r requirements.txt (line 3)) (1.15.0)\n",
            "Building wheels for collected packages: nltk\n",
            "  Building wheel for nltk (setup.py) ... \u001b[?25l\u001b[?25hdone\n",
            "  Created wheel for nltk: filename=nltk-3.5-py3-none-any.whl size=1434692 sha256=846abf7f0fd321b2a4fe335826e79d479dc5abd933a4b400b5a03d9600ab332a\n",
            "  Stored in directory: /root/.cache/pip/wheels/45/6c/46/a1865e7ba706b3817f5d1b2ff7ce8996aabdd0d03d47ba0266\n",
            "Successfully built nltk\n",
            "Installing collected packages: tokenizers, sentencepiece, sacremoses, transformers, torch, scikit-learn, nltk, cython\n",
            "  Attempting uninstall: torch\n",
            "    Found existing installation: torch 1.10.0+cu111\n",
            "    Uninstalling torch-1.10.0+cu111:\n",
            "      Successfully uninstalled torch-1.10.0+cu111\n",
            "  Attempting uninstall: scikit-learn\n",
            "    Found existing installation: scikit-learn 1.0.1\n",
            "    Uninstalling scikit-learn-1.0.1:\n",
            "      Successfully uninstalled scikit-learn-1.0.1\n",
            "  Attempting uninstall: nltk\n",
            "    Found existing installation: nltk 3.2.5\n",
            "    Uninstalling nltk-3.2.5:\n",
            "      Successfully uninstalled nltk-3.2.5\n",
            "  Attempting uninstall: cython\n",
            "    Found existing installation: Cython 0.29.24\n",
            "    Uninstalling Cython-0.29.24:\n",
            "      Successfully uninstalled Cython-0.29.24\n",
            "\u001b[31mERROR: pip's dependency resolver does not currently take into account all the packages that are installed. This behaviour is the source of the following dependency conflicts.\n",
            "torchvision 0.11.1+cu111 requires torch==1.10.0, but you have torch 1.4.0 which is incompatible.\n",
            "torchtext 0.11.0 requires torch==1.10.0, but you have torch 1.4.0 which is incompatible.\n",
            "torchaudio 0.10.0+cu111 requires torch==1.10.0, but you have torch 1.4.0 which is incompatible.\n",
            "imbalanced-learn 0.8.1 requires scikit-learn>=0.24, but you have scikit-learn 0.23.2 which is incompatible.\u001b[0m\n",
            "Successfully installed cython-0.29.13 nltk-3.5 sacremoses-0.0.46 scikit-learn-0.23.2 sentencepiece-0.1.96 tokenizers-0.8.1rc2 torch-1.4.0 transformers-3.2.0\n"
          ]
        }
      ]
    },
    {
      "cell_type": "code",
      "source": [
        "!wget https://huggingface.co/stanfordnlp/glove/resolve/main/glove.840B.300d.zip"
      ],
      "metadata": {
        "colab": {
          "base_uri": "https://localhost:8080/"
        },
        "id": "LJqChe8r2rWc",
        "outputId": "32a28ae5-7615-4826-8acb-fd15730f84ff"
      },
      "execution_count": null,
      "outputs": [
        {
          "output_type": "stream",
          "name": "stdout",
          "text": [
            "--2022-01-02 12:29:37--  https://huggingface.co/stanfordnlp/glove/resolve/main/glove.840B.300d.zip\n",
            "Resolving huggingface.co (huggingface.co)... 52.22.206.115, 34.204.221.201, 2600:1f18:147f:e850:c39a:a3bb:28bd:ea23, ...\n",
            "Connecting to huggingface.co (huggingface.co)|52.22.206.115|:443... connected.\n",
            "HTTP request sent, awaiting response... 302 Found\n",
            "Location: https://cdn-lfs.huggingface.co/stanfordnlp/glove/f47355dd5b267bd10f08671e513790690233c76a9ffd73aa915d78f894a8912e [following]\n",
            "--2022-01-02 12:29:38--  https://cdn-lfs.huggingface.co/stanfordnlp/glove/f47355dd5b267bd10f08671e513790690233c76a9ffd73aa915d78f894a8912e\n",
            "Resolving cdn-lfs.huggingface.co (cdn-lfs.huggingface.co)... 13.224.160.90, 13.224.160.125, 13.224.160.107, ...\n",
            "Connecting to cdn-lfs.huggingface.co (cdn-lfs.huggingface.co)|13.224.160.90|:443... connected.\n",
            "HTTP request sent, awaiting response... 200 OK\n",
            "Length: 2176768976 (2.0G) [application/zip]\n",
            "Saving to: ‘glove.840B.300d.zip’\n",
            "\n",
            "glove.840B.300d.zip 100%[===================>]   2.03G  23.9MB/s    in 91s     \n",
            "\n",
            "2022-01-02 12:31:10 (22.7 MB/s) - ‘glove.840B.300d.zip’ saved [2176768976/2176768976]\n",
            "\n"
          ]
        }
      ]
    },
    {
      "cell_type": "code",
      "source": [
        "mv /content/DualGCN-ABSA/glove.840B.300d.zip /content/DualGCN-ABSA/DualGCN/glove"
      ],
      "metadata": {
        "id": "misRp-5v2rTu"
      },
      "execution_count": null,
      "outputs": []
    },
    {
      "cell_type": "code",
      "source": [
        "!sh DualGCN/build_vocab.sh"
      ],
      "metadata": {
        "id": "-g1pPgEn6NV6",
        "colab": {
          "base_uri": "https://localhost:8080/"
        },
        "outputId": "874b4476-5f80-4930-ada5-61ec6d91f4a7"
      },
      "execution_count": null,
      "outputs": [
        {
          "output_type": "stream",
          "name": "stdout",
          "text": [
            "loading files...\n",
            "34164 tokens from 1980 examples loaded from DualGCN/dataset/Restaurants_corenlp/train.json.\n",
            "9809 tokens from 599 examples loaded from DualGCN/dataset/Restaurants_corenlp/test.json.\n",
            "building vocab...\n",
            "token_vocab: 4521, pos_vocab: 46, dep_vocab: 42, post_vocab: 160, pol_vocab: 3\n",
            "dumping to files...\n",
            "all done.\n",
            "loading files...\n",
            "28476 tokens from 1454 examples loaded from DualGCN/dataset/Laptops_corenlp/train.json.\n",
            "6510 tokens from 409 examples loaded from DualGCN/dataset/Laptops_corenlp/test.json.\n",
            "building vocab...\n",
            "token_vocab: 3525, pos_vocab: 46, dep_vocab: 41, post_vocab: 168, pol_vocab: 3\n",
            "dumping to files...\n",
            "all done.\n",
            "loading files...\n",
            "127741 tokens from 6051 examples loaded from DualGCN/dataset/Tweets_corenlp/train.json.\n",
            "14474 tokens from 677 examples loaded from DualGCN/dataset/Tweets_corenlp/test.json.\n",
            "building vocab...\n",
            "token_vocab: 13146, pos_vocab: 47, dep_vocab: 42, post_vocab: 94, pol_vocab: 3\n",
            "dumping to files...\n",
            "all done.\n",
            "loading files...\n",
            "34609 tokens from 1980 examples loaded from DualGCN/dataset/Restaurants_allennlp/train.json.\n",
            "9968 tokens from 599 examples loaded from DualGCN/dataset/Restaurants_allennlp/test.json.\n",
            "building vocab...\n",
            "token_vocab: 4406, pos_vocab: 19, dep_vocab: 46, post_vocab: 160, pol_vocab: 3\n",
            "dumping to files...\n",
            "all done.\n",
            "loading files...\n",
            "28793 tokens from 1454 examples loaded from DualGCN/dataset/Laptops_allennlp/train.json.\n",
            "6597 tokens from 409 examples loaded from DualGCN/dataset/Laptops_allennlp/test.json.\n",
            "building vocab...\n",
            "token_vocab: 3438, pos_vocab: 19, dep_vocab: 45, post_vocab: 168, pol_vocab: 3\n",
            "dumping to files...\n",
            "all done.\n",
            "loading files...\n",
            "129318 tokens from 6051 examples loaded from DualGCN/dataset/Tweets_allennlp/train.json.\n",
            "14619 tokens from 677 examples loaded from DualGCN/dataset/Tweets_allennlp/test.json.\n",
            "building vocab...\n",
            "token_vocab: 12906, pos_vocab: 19, dep_vocab: 45, post_vocab: 94, pol_vocab: 3\n",
            "dumping to files...\n",
            "all done.\n",
            "loading files...\n",
            "34376 tokens from 1980 examples loaded from DualGCN/dataset/Restaurants_stanza/train.json.\n",
            "9906 tokens from 599 examples loaded from DualGCN/dataset/Restaurants_stanza/test.json.\n",
            "building vocab...\n",
            "token_vocab: 4460, pos_vocab: 47, dep_vocab: 45, post_vocab: 160, pol_vocab: 3\n",
            "dumping to files...\n",
            "all done.\n",
            "loading files...\n",
            "28681 tokens from 1454 examples loaded from DualGCN/dataset/Laptops_stanza/train.json.\n",
            "6566 tokens from 409 examples loaded from DualGCN/dataset/Laptops_stanza/test.json.\n",
            "building vocab...\n",
            "token_vocab: 3457, pos_vocab: 47, dep_vocab: 44, post_vocab: 168, pol_vocab: 3\n",
            "dumping to files...\n",
            "all done.\n",
            "loading files...\n",
            "128907 tokens from 6051 examples loaded from DualGCN/dataset/Tweets_stanza/train.json.\n",
            "14603 tokens from 677 examples loaded from DualGCN/dataset/Tweets_stanza/test.json.\n",
            "building vocab...\n",
            "token_vocab: 12985, pos_vocab: 52, dep_vocab: 48, post_vocab: 94, pol_vocab: 3\n",
            "dumping to files...\n",
            "all done.\n"
          ]
        }
      ]
    },
    {
      "cell_type": "code",
      "source": [
        "cp /content/drive/MyDrive/best_parser.pt /content/DualGCN-ABSA/LAL-Parser/best_model"
      ],
      "metadata": {
        "id": "cYHVpxzn7wPQ"
      },
      "execution_count": null,
      "outputs": []
    },
    {
      "cell_type": "code",
      "source": [
        "!unzip /content/DualGCN-ABSA/DualGCN/glove/glove.840B.300d.zip"
      ],
      "metadata": {
        "colab": {
          "base_uri": "https://localhost:8080/"
        },
        "id": "hz66ZEg-BXah",
        "outputId": "082f0e7c-315b-439c-bf6a-d38c79226567"
      },
      "execution_count": null,
      "outputs": [
        {
          "output_type": "stream",
          "name": "stdout",
          "text": [
            "Archive:  /content/DualGCN-ABSA/DualGCN/glove/glove.840B.300d.zip\n",
            "  inflating: glove.840B.300d.txt     \n"
          ]
        }
      ]
    },
    {
      "cell_type": "code",
      "source": [
        "import nltk\n",
        "nltk.download('punkt')\n",
        "nltk.download('averaged_perceptron_tagger')"
      ],
      "metadata": {
        "id": "rJhWxlTsDS96"
      },
      "execution_count": null,
      "outputs": []
    },
    {
      "cell_type": "code",
      "source": [
        "mv /content/DualGCN-ABSA/glove.840B.300d.txt /content/DualGCN-ABSA/DualGCN/glove"
      ],
      "metadata": {
        "id": "_ov-jDRYzEv1"
      },
      "execution_count": null,
      "outputs": []
    },
    {
      "cell_type": "code",
      "source": [
        ""
      ],
      "metadata": {
        "id": "SgNPe30ZzJ8j"
      },
      "execution_count": null,
      "outputs": []
    },
    {
      "cell_type": "code",
      "source": [
        "!sh DualGCN/run.sh"
      ],
      "metadata": {
        "colab": {
          "base_uri": "https://localhost:8080/"
        },
        "id": "oj-zW3VK7wMd",
        "outputId": "f0da71b4-f8e1-4349-fd6e-af004e8d3160"
      },
      "execution_count": null,
      "outputs": [
        {
          "output_type": "stream",
          "name": "stdout",
          "text": [
            "choice cuda:0\n",
            "loading tokenizer: ./DualGCN/dataset/Laptops_corenlp/laptop_tokenizer.dat\n",
            "loading word vectors...\n",
            "Loading vocab...\n",
            "token_vocab: 3525, post_vocab: 168, pos_vocab: 46, dep_vocab: 41, pol_vocab: 3\n",
            "/usr/local/lib/python3.7/dist-packages/torch/nn/modules/rnn.py:50: UserWarning: dropout option adds dropout after all but last recurrent layer, so non-zero dropout expects num_layers greater than 1, but got dropout=0.1 and num_layers=1\n",
            "  \"num_layers={}\".format(dropout, num_layers))\n",
            "Training examples:   0% 0/2282 [00:00<?, ?it/s]/usr/local/lib/python3.7/dist-packages/Cython/Compiler/Main.py:369: FutureWarning: Cython directive 'language_level' not set, using 2 for now (Py2). This will change in a later release! File: /content/DualGCN-ABSA/LAL-Parser/src_joint/hpsg_decoder.pyx\n",
            "  tree = Parsing.p_module(s, pxd, full_module_name)\n",
            "In file included from \u001b[01m\u001b[K/usr/local/lib/python3.7/dist-packages/numpy/core/include/numpy/ndarraytypes.h:1822:0\u001b[m\u001b[K,\n",
            "                 from \u001b[01m\u001b[K/usr/local/lib/python3.7/dist-packages/numpy/core/include/numpy/ndarrayobject.h:12\u001b[m\u001b[K,\n",
            "                 from \u001b[01m\u001b[K/usr/local/lib/python3.7/dist-packages/numpy/core/include/numpy/arrayobject.h:4\u001b[m\u001b[K,\n",
            "                 from \u001b[01m\u001b[K/root/.pyxbld/temp.linux-x86_64-3.7/pyrex/hpsg_decoder.c:598\u001b[m\u001b[K:\n",
            "\u001b[01m\u001b[K/usr/local/lib/python3.7/dist-packages/numpy/core/include/numpy/npy_1_7_deprecated_api.h:17:2:\u001b[m\u001b[K \u001b[01;35m\u001b[Kwarning: \u001b[m\u001b[K#warning \"Using deprecated NumPy API, disable it with \" \"#define NPY_NO_DEPRECATED_API NPY_1_7_API_VERSION\" [\u001b[01;35m\u001b[K-Wcpp\u001b[m\u001b[K]\n",
            " #\u001b[01;35m\u001b[Kwarning\u001b[m\u001b[K \"Using deprecated NumPy API, disable it with \" \\\n",
            "  \u001b[01;35m\u001b[K^~~~~~~\u001b[m\u001b[K\n",
            "\u001b[01m\u001b[K/root/.pyxbld/temp.linux-x86_64-3.7/pyrex/hpsg_decoder.c:\u001b[m\u001b[K In function ‘\u001b[01m\u001b[K__pyx_pf_12hpsg_decoder_decode.isra.12\u001b[m\u001b[K’:\n",
            "\u001b[01m\u001b[K/root/.pyxbld/temp.linux-x86_64-3.7/pyrex/hpsg_decoder.c:5720:15:\u001b[m\u001b[K \u001b[01;35m\u001b[Kwarning: \u001b[m\u001b[K‘\u001b[01m\u001b[K__pyx_v_root_head\u001b[m\u001b[K’ may be used uninitialized in this function [\u001b[01;35m\u001b[K-Wmaybe-uninitialized\u001b[m\u001b[K]\n",
            "   \u001b[01;35m\u001b[K__pyx_t_226 = __pyx_v_root_head\u001b[m\u001b[K;\n",
            "   \u001b[01;35m\u001b[K~~~~~~~~~~~~^~~~~~~~~~~~~~~~~~~\u001b[m\u001b[K\n",
            "/usr/local/lib/python3.7/dist-packages/Cython/Compiler/Main.py:369: FutureWarning: Cython directive 'language_level' not set, using 2 for now (Py2). This will change in a later release! File: /content/DualGCN-ABSA/LAL-Parser/src_joint/const_decoder.pyx\n",
            "  tree = Parsing.p_module(s, pxd, full_module_name)\n",
            "In file included from \u001b[01m\u001b[K/usr/local/lib/python3.7/dist-packages/numpy/core/include/numpy/ndarraytypes.h:1822:0\u001b[m\u001b[K,\n",
            "                 from \u001b[01m\u001b[K/usr/local/lib/python3.7/dist-packages/numpy/core/include/numpy/ndarrayobject.h:12\u001b[m\u001b[K,\n",
            "                 from \u001b[01m\u001b[K/usr/local/lib/python3.7/dist-packages/numpy/core/include/numpy/arrayobject.h:4\u001b[m\u001b[K,\n",
            "                 from \u001b[01m\u001b[K/root/.pyxbld/temp.linux-x86_64-3.7/pyrex/const_decoder.c:598\u001b[m\u001b[K:\n",
            "\u001b[01m\u001b[K/usr/local/lib/python3.7/dist-packages/numpy/core/include/numpy/npy_1_7_deprecated_api.h:17:2:\u001b[m\u001b[K \u001b[01;35m\u001b[Kwarning: \u001b[m\u001b[K#warning \"Using deprecated NumPy API, disable it with \" \"#define NPY_NO_DEPRECATED_API NPY_1_7_API_VERSION\" [\u001b[01;35m\u001b[K-Wcpp\u001b[m\u001b[K]\n",
            " #\u001b[01;35m\u001b[Kwarning\u001b[m\u001b[K \"Using deprecated NumPy API, disable it with \" \\\n",
            "  \u001b[01;35m\u001b[K^~~~~~~\u001b[m\u001b[K\n",
            "\u001b[01m\u001b[K/root/.pyxbld/temp.linux-x86_64-3.7/pyrex/const_decoder.c:\u001b[m\u001b[K In function ‘\u001b[01m\u001b[K__pyx_pf_13const_decoder_decode.isra.9\u001b[m\u001b[K’:\n",
            "\u001b[01m\u001b[K/root/.pyxbld/temp.linux-x86_64-3.7/pyrex/const_decoder.c:3083:20:\u001b[m\u001b[K \u001b[01;35m\u001b[Kwarning: \u001b[m\u001b[K‘\u001b[01m\u001b[K__pyx_v_oracle_label_index\u001b[m\u001b[K’ may be used uninitialized in this function [\u001b[01;35m\u001b[K-Wmaybe-uninitialized\u001b[m\u001b[K]\n",
            "         \u001b[01;35m\u001b[K__pyx_t_37 = __pyx_v_oracle_label_index\u001b[m\u001b[K;\n",
            "         \u001b[01;35m\u001b[K~~~~~~~~~~~^~~~~~~~~~~~~~~~~~~~~~~~~~~~\u001b[m\u001b[K\n",
            "\u001b[01m\u001b[K/root/.pyxbld/temp.linux-x86_64-3.7/pyrex/const_decoder.c:1361:91:\u001b[m\u001b[K \u001b[01;35m\u001b[Kwarning: \u001b[m\u001b[K‘\u001b[01m\u001b[K__pyx_pybuffernd_oracle_split_chart.diminfo[1].strides\u001b[m\u001b[K’ may be used uninitialized in this function [\u001b[01;35m\u001b[K-Wmaybe-uninitialized\u001b[m\u001b[K]\n",
            " #define __Pyx_BufPtrStrided2d(type, buf, i0, s0, i1, s1) (type)((char*)buf + i0 * s0 + i1 \u001b[01;35m\u001b[K*\u001b[m\u001b[K s1)\n",
            "                                                                                           \u001b[01;35m\u001b[K^\u001b[m\u001b[K\n",
            "\u001b[01m\u001b[K/root/.pyxbld/temp.linux-x86_64-3.7/pyrex/const_decoder.c:2028:21:\u001b[m\u001b[K \u001b[01;36m\u001b[Knote: \u001b[m\u001b[K‘\u001b[01m\u001b[K__pyx_pybuffernd_oracle_split_chart.diminfo[1].strides\u001b[m\u001b[K’ was declared here\n",
            "   __Pyx_LocalBuf_ND \u001b[01;36m\u001b[K__pyx_pybuffernd_oracle_split_chart\u001b[m\u001b[K;\n",
            "                     \u001b[01;36m\u001b[K^~~~~~~~~~~~~~~~~~~~~~~~~~~~~~~~~~~\u001b[m\u001b[K\n",
            "\u001b[01m\u001b[K/root/.pyxbld/temp.linux-x86_64-3.7/pyrex/const_decoder.c:3369:40:\u001b[m\u001b[K \u001b[01;35m\u001b[Kwarning: \u001b[m\u001b[K‘\u001b[01m\u001b[K__pyx_pybuffernd_oracle_split_chart.diminfo[1].shape\u001b[m\u001b[K’ may be used uninitialized in this function [\u001b[01;35m\u001b[K-Wmaybe-uninitialized\u001b[m\u001b[K]\n",
            "         if (__pyx_t_59 < 0) \u001b[01;35m\u001b[K__pyx_t_59 += __pyx_pybuffernd_oracle_split_chart.diminfo[1].shape\u001b[m\u001b[K;\n",
            "                             \u001b[01;35m\u001b[K~~~~~~~~~~~^~~~~~~~~~~~~~~~~~~~~~~~~~~~~~~~~~~~~~~~~~~~~~~~~~~~~~~\u001b[m\u001b[K\n",
            "\u001b[01m\u001b[K/root/.pyxbld/temp.linux-x86_64-3.7/pyrex/const_decoder.c:2028:21:\u001b[m\u001b[K \u001b[01;35m\u001b[Kwarning: \u001b[m\u001b[K‘\u001b[01m\u001b[K__pyx_pybuffernd_oracle_split_chart.diminfo[0].strides\u001b[m\u001b[K’ may be used uninitialized in this function [\u001b[01;35m\u001b[K-Wmaybe-uninitialized\u001b[m\u001b[K]\n",
            "   __Pyx_LocalBuf_ND \u001b[01;35m\u001b[K__pyx_pybuffernd_oracle_split_chart\u001b[m\u001b[K;\n",
            "                     \u001b[01;35m\u001b[K^~~~~~~~~~~~~~~~~~~~~~~~~~~~~~~~~~~\u001b[m\u001b[K\n",
            "\u001b[01m\u001b[K/root/.pyxbld/temp.linux-x86_64-3.7/pyrex/const_decoder.c:2026:21:\u001b[m\u001b[K \u001b[01;35m\u001b[Kwarning: \u001b[m\u001b[K‘\u001b[01m\u001b[K__pyx_pybuffernd_oracle_label_chart.diminfo[0].strides\u001b[m\u001b[K’ may be used uninitialized in this function [\u001b[01;35m\u001b[K-Wmaybe-uninitialized\u001b[m\u001b[K]\n",
            "   __Pyx_LocalBuf_ND \u001b[01;35m\u001b[K__pyx_pybuffernd_oracle_label_chart\u001b[m\u001b[K;\n",
            "                     \u001b[01;35m\u001b[K^~~~~~~~~~~~~~~~~~~~~~~~~~~~~~~~~~~\u001b[m\u001b[K\n",
            "Loading model from ./LAL-Parser/best_model/best_parser.pt...\n",
            "\n",
            "Downloading:   0% 0.00/798k [00:00<?, ?B/s]\u001b[A\n",
            "Downloading:   1% 8.19k/798k [00:00<00:17, 44.2kB/s]\u001b[A\n",
            "Downloading:   5% 43.0k/798k [00:00<00:05, 128kB/s] \u001b[A\n",
            "Downloading:  12% 95.2k/798k [00:00<00:03, 198kB/s]\u001b[A\n",
            "Downloading:  27% 217k/798k [00:00<00:01, 378kB/s] \u001b[A\n",
            "Downloading: 100% 798k/798k [00:00<00:00, 849kB/s]\n",
            "\n",
            "Downloading: 100% 761/761 [00:00<00:00, 612kB/s]\n",
            "/usr/local/lib/python3.7/dist-packages/transformers/configuration_xlnet.py:211: FutureWarning: This config doesn't use attention memories, a core feature of XLNet. Consider setting `men_len` to a non-zero value, for example `xlnet = XLNetLMHeadModel.from_pretrained('xlnet-base-cased'', mem_len=1024)`, for accurate training performance as well as an order of magnitude faster inference. Starting from version 3.5.0, the default parameter will be 1024, following the implementation in https://arxiv.org/abs/1906.08237\n",
            "  FutureWarning,\n",
            "\n",
            "Downloading:   0% 0.00/1.44G [00:00<?, ?B/s]\u001b[A\n",
            "Downloading:   0% 8.19k/1.44G [00:00<8:11:22, 48.9kB/s]\u001b[A\n",
            "Downloading:   0% 25.6k/1.44G [00:00<4:58:26, 80.5kB/s]\u001b[A\n",
            "Downloading:   0% 95.2k/1.44G [00:00<1:43:38, 232kB/s] \u001b[A\n",
            "Downloading:   0% 200k/1.44G [00:00<1:02:38, 383kB/s] \u001b[A\n",
            "Downloading:   0% 426k/1.44G [00:00<33:03, 726kB/s]  \u001b[A\n",
            "Downloading:   0% 879k/1.44G [00:01<17:20, 1.38MB/s]\u001b[A\n",
            "Downloading:   0% 1.77M/1.44G [00:01<09:04, 2.64MB/s]\u001b[A\n",
            "Downloading:   0% 3.57M/1.44G [00:01<04:37, 5.18MB/s]\u001b[A\n",
            "Downloading:   0% 7.20M/1.44G [00:01<02:19, 10.3MB/s]\u001b[A\n",
            "Downloading:   1% 10.1M/1.44G [00:01<01:40, 14.3MB/s]\u001b[A\n",
            "Downloading:   1% 12.6M/1.44G [00:01<01:25, 16.6MB/s]\u001b[A\n",
            "Downloading:   1% 15.5M/1.44G [00:01<01:20, 17.8MB/s]\u001b[A\n",
            "Downloading:   1% 18.9M/1.44G [00:01<01:04, 21.9MB/s]\u001b[A\n",
            "Downloading:   1% 21.4M/1.44G [00:02<01:02, 22.6MB/s]\u001b[A\n",
            "Downloading:   2% 24.6M/1.44G [00:02<01:02, 22.8MB/s]\u001b[A\n",
            "Downloading:   2% 29.4M/1.44G [00:02<00:48, 29.2MB/s]\u001b[A\n",
            "Downloading:   2% 32.5M/1.44G [00:02<00:51, 27.6MB/s]\u001b[A\n",
            "Downloading:   2% 35.4M/1.44G [00:02<00:53, 26.5MB/s]\u001b[A\n",
            "Downloading:   3% 39.6M/1.44G [00:02<00:45, 30.5MB/s]\u001b[A\n",
            "Downloading:   3% 42.8M/1.44G [00:02<00:47, 29.3MB/s]\u001b[A\n",
            "Downloading:   3% 45.8M/1.44G [00:02<00:49, 28.1MB/s]\u001b[A\n",
            "Downloading:   4% 50.5M/1.44G [00:03<00:48, 28.8MB/s]\u001b[A\n",
            "Downloading:   4% 55.1M/1.44G [00:03<00:49, 28.1MB/s]\u001b[A\n",
            "Downloading:   4% 59.5M/1.44G [00:03<00:43, 31.7MB/s]\u001b[A\n",
            "Downloading:   4% 62.8M/1.44G [00:03<00:45, 30.3MB/s]\u001b[A\n",
            "Downloading:   5% 65.9M/1.44G [00:03<00:48, 28.6MB/s]\u001b[A\n",
            "Downloading:   5% 70.1M/1.44G [00:03<00:43, 31.8MB/s]\u001b[A\n",
            "Downloading:   5% 73.3M/1.44G [00:03<00:44, 30.7MB/s]\u001b[A\n",
            "Downloading:   5% 76.5M/1.44G [00:03<00:48, 28.1MB/s]\u001b[A\n",
            "Downloading:   6% 80.8M/1.44G [00:04<00:47, 28.8MB/s]\u001b[A\n",
            "Downloading:   6% 85.4M/1.44G [00:04<00:40, 33.1MB/s]\u001b[A\n",
            "Downloading:   6% 88.9M/1.44G [00:04<00:44, 30.6MB/s]\u001b[A\n",
            "Downloading:   6% 92.1M/1.44G [00:04<00:46, 28.8MB/s]\u001b[A\n",
            "Downloading:   7% 96.4M/1.44G [00:04<00:46, 29.2MB/s]\u001b[A\n",
            "Downloading:   7% 100M/1.44G [00:04<00:42, 31.9MB/s] \u001b[A\n",
            "Downloading:   7% 104M/1.44G [00:04<00:44, 29.8MB/s]\u001b[A\n",
            "Downloading:   7% 107M/1.44G [00:04<00:46, 28.5MB/s]\u001b[A\n",
            "Downloading:   8% 110M/1.44G [00:05<00:46, 28.9MB/s]\u001b[A\n",
            "Downloading:   8% 113M/1.44G [00:05<00:50, 26.1MB/s]\u001b[A\n",
            "Downloading:   8% 116M/1.44G [00:05<00:48, 27.1MB/s]\u001b[A\n",
            "Downloading:   8% 120M/1.44G [00:05<00:40, 32.3MB/s]\u001b[A\n",
            "Downloading:   9% 124M/1.44G [00:05<00:44, 29.7MB/s]\u001b[A\n",
            "Downloading:   9% 127M/1.44G [00:05<00:46, 28.0MB/s]\u001b[A\n",
            "Downloading:   9% 131M/1.44G [00:05<00:45, 28.5MB/s]\u001b[A\n",
            "Downloading:   9% 135M/1.44G [00:05<00:40, 32.2MB/s]\u001b[A\n",
            "Downloading:  10% 138M/1.44G [00:06<00:44, 29.2MB/s]\u001b[A\n",
            "Downloading:  10% 141M/1.44G [00:06<00:45, 28.7MB/s]\u001b[A\n",
            "Downloading:  10% 145M/1.44G [00:06<00:48, 26.7MB/s]\u001b[A\n",
            "Downloading:  10% 149M/1.44G [00:06<00:42, 30.2MB/s]\u001b[A\n",
            "Downloading:  11% 152M/1.44G [00:06<00:44, 28.8MB/s]\u001b[A\n",
            "Downloading:  11% 155M/1.44G [00:06<00:47, 27.1MB/s]\u001b[A\n",
            "Downloading:  11% 158M/1.44G [00:06<00:48, 26.3MB/s]\u001b[A\n",
            "Downloading:  11% 161M/1.44G [00:06<00:48, 26.3MB/s]\u001b[A\n",
            "Downloading:  11% 165M/1.44G [00:06<00:41, 30.9MB/s]\u001b[A\n",
            "Downloading:  12% 170M/1.44G [00:07<00:36, 35.0MB/s]\u001b[A\n",
            "Downloading:  12% 174M/1.44G [00:07<00:40, 31.6MB/s]\u001b[A\n",
            "Downloading:  12% 177M/1.44G [00:07<00:42, 29.6MB/s]\u001b[A\n",
            "Downloading:  13% 180M/1.44G [00:07<00:44, 28.4MB/s]\u001b[A\n",
            "Downloading:  13% 185M/1.44G [00:07<00:38, 32.5MB/s]\u001b[A\n",
            "Downloading:  13% 188M/1.44G [00:07<00:42, 29.8MB/s]\u001b[A\n",
            "Downloading:  13% 191M/1.44G [00:07<00:43, 29.0MB/s]\u001b[A\n",
            "Downloading:  14% 196M/1.44G [00:07<00:42, 29.2MB/s]\u001b[A\n",
            "Downloading:  14% 201M/1.44G [00:08<00:37, 33.4MB/s]\u001b[A\n",
            "Downloading:  14% 204M/1.44G [00:08<00:39, 31.0MB/s]\u001b[A\n",
            "Downloading:  14% 207M/1.44G [00:08<00:42, 29.1MB/s]\u001b[A\n",
            "Downloading:  15% 211M/1.44G [00:08<00:42, 28.7MB/s]\u001b[A\n",
            "Downloading:  15% 216M/1.44G [00:08<00:37, 32.7MB/s]\u001b[A\n",
            "Downloading:  15% 219M/1.44G [00:08<00:40, 30.2MB/s]\u001b[A\n",
            "Downloading:  15% 222M/1.44G [00:08<00:42, 29.0MB/s]\u001b[A\n",
            "Downloading:  16% 227M/1.44G [00:08<00:41, 29.2MB/s]\u001b[A\n",
            "Downloading:  16% 231M/1.44G [00:09<00:37, 32.6MB/s]\u001b[A\n",
            "Downloading:  16% 235M/1.44G [00:09<00:39, 30.5MB/s]\u001b[A\n",
            "Downloading:  16% 238M/1.44G [00:09<00:41, 29.0MB/s]\u001b[A\n",
            "Downloading:  17% 242M/1.44G [00:09<00:36, 32.5MB/s]\u001b[A\n",
            "Downloading:  17% 245M/1.44G [00:09<00:39, 30.3MB/s]\u001b[A\n",
            "Downloading:  17% 248M/1.44G [00:09<00:41, 28.5MB/s]\u001b[A\n",
            "Downloading:  18% 253M/1.44G [00:09<00:37, 31.9MB/s]\u001b[A\n",
            "Downloading:  18% 256M/1.44G [00:09<00:38, 31.1MB/s]\u001b[A\n",
            "Downloading:  18% 259M/1.44G [00:10<00:40, 29.2MB/s]\u001b[A\n",
            "Downloading:  18% 262M/1.44G [00:10<00:42, 27.8MB/s]\u001b[A\n",
            "Downloading:  18% 265M/1.44G [00:10<00:41, 28.3MB/s]\u001b[A\n",
            "Downloading:  19% 269M/1.44G [00:10<00:38, 30.5MB/s]\u001b[A\n",
            "Downloading:  19% 273M/1.44G [00:10<00:33, 34.4MB/s]\u001b[A\n",
            "Downloading:  19% 277M/1.44G [00:10<00:36, 31.5MB/s]\u001b[A\n",
            "Downloading:  19% 280M/1.44G [00:10<00:39, 29.3MB/s]\u001b[A\n",
            "Downloading:  20% 283M/1.44G [00:10<00:40, 28.7MB/s]\u001b[A\n",
            "Downloading:  20% 288M/1.44G [00:10<00:36, 31.6MB/s]\u001b[A\n",
            "Downloading:  20% 291M/1.44G [00:11<00:38, 29.8MB/s]\u001b[A\n",
            "Downloading:  20% 294M/1.44G [00:11<00:39, 28.9MB/s]\u001b[A\n",
            "Downloading:  21% 298M/1.44G [00:11<00:35, 32.5MB/s]\u001b[A\n",
            "Downloading:  21% 301M/1.44G [00:11<00:37, 30.3MB/s]\u001b[A\n",
            "Downloading:  21% 304M/1.44G [00:11<00:38, 29.2MB/s]\u001b[A\n",
            "Downloading:  21% 307M/1.44G [00:11<00:41, 27.4MB/s]\u001b[A\n",
            "Downloading:  22% 312M/1.44G [00:11<00:34, 32.4MB/s]\u001b[A\n",
            "Downloading:  22% 315M/1.44G [00:11<00:40, 28.0MB/s]\u001b[A\n",
            "Downloading:  22% 318M/1.44G [00:12<00:41, 26.9MB/s]\u001b[A\n",
            "Downloading:  22% 323M/1.44G [00:12<00:35, 31.8MB/s]\u001b[A\n",
            "Downloading:  23% 326M/1.44G [00:12<00:37, 29.5MB/s]\u001b[A\n",
            "Downloading:  23% 329M/1.44G [00:12<00:39, 28.0MB/s]\u001b[A\n",
            "Downloading:  23% 334M/1.44G [00:12<00:39, 28.3MB/s]\u001b[A\n",
            "Downloading:  23% 338M/1.44G [00:12<00:33, 32.6MB/s]\u001b[A\n",
            "Downloading:  24% 342M/1.44G [00:12<00:36, 30.4MB/s]\u001b[A\n",
            "Downloading:  24% 345M/1.44G [00:12<00:38, 28.2MB/s]\u001b[A\n",
            "Downloading:  24% 349M/1.44G [00:13<00:37, 29.0MB/s]\u001b[A\n",
            "Downloading:  25% 354M/1.44G [00:13<00:33, 32.8MB/s]\u001b[A\n",
            "Downloading:  25% 357M/1.44G [00:13<00:35, 30.4MB/s]\u001b[A\n",
            "Downloading:  25% 360M/1.44G [00:13<00:37, 28.9MB/s]\u001b[A\n",
            "Downloading:  25% 365M/1.44G [00:13<00:36, 29.3MB/s]\u001b[A\n",
            "Downloading:  26% 369M/1.44G [00:13<00:32, 32.9MB/s]\u001b[A\n",
            "Downloading:  26% 372M/1.44G [00:13<00:40, 26.2MB/s]\u001b[A\n",
            "Downloading:  26% 377M/1.44G [00:13<00:33, 31.5MB/s]\u001b[A\n",
            "Downloading:  26% 381M/1.44G [00:14<00:36, 29.1MB/s]\u001b[A\n",
            "Downloading:  27% 384M/1.44G [00:14<00:37, 28.2MB/s]\u001b[A\n",
            "Downloading:  27% 389M/1.44G [00:14<00:31, 32.9MB/s]\u001b[A\n",
            "Downloading:  27% 393M/1.44G [00:14<00:34, 30.4MB/s]\u001b[A\n",
            "Downloading:  27% 396M/1.44G [00:14<00:36, 28.7MB/s]\u001b[A\n",
            "Downloading:  28% 400M/1.44G [00:14<00:36, 28.5MB/s]\u001b[A\n",
            "Downloading:  28% 404M/1.44G [00:14<00:31, 32.8MB/s]\u001b[A\n",
            "Downloading:  28% 408M/1.44G [00:15<00:39, 26.2MB/s]\u001b[A\n",
            "Downloading:  29% 411M/1.44G [00:15<00:37, 27.4MB/s]\u001b[A\n",
            "Downloading:  29% 414M/1.44G [00:15<00:39, 25.9MB/s]\u001b[A\n",
            "Downloading:  29% 418M/1.44G [00:15<00:33, 30.5MB/s]\u001b[A\n",
            "Downloading:  29% 422M/1.44G [00:15<00:31, 32.3MB/s]\u001b[A\n",
            "Downloading:  30% 426M/1.44G [00:15<00:33, 30.1MB/s]\u001b[A\n",
            "Downloading:  30% 430M/1.44G [00:15<00:33, 30.0MB/s]\u001b[A\n",
            "Downloading:  30% 434M/1.44G [00:15<00:30, 33.4MB/s]\u001b[A\n",
            "Downloading:  30% 438M/1.44G [00:16<00:33, 30.1MB/s]\u001b[A\n",
            "Downloading:  31% 441M/1.44G [00:16<00:37, 26.5MB/s]\u001b[A\n",
            "Downloading:  31% 445M/1.44G [00:16<00:34, 28.7MB/s]\u001b[A\n",
            "Downloading:  31% 448M/1.44G [00:16<00:32, 30.3MB/s]\u001b[A\n",
            "Downloading:  31% 451M/1.44G [00:16<00:32, 30.1MB/s]\u001b[A\n",
            "Downloading:  32% 455M/1.44G [00:16<00:33, 29.4MB/s]\u001b[A\n",
            "Downloading:  32% 459M/1.44G [00:16<00:30, 31.9MB/s]\u001b[A\n",
            "Downloading:  32% 462M/1.44G [00:16<00:32, 29.8MB/s]\u001b[A\n",
            "Downloading:  32% 465M/1.44G [00:16<00:33, 29.6MB/s]\u001b[A\n",
            "Downloading:  33% 470M/1.44G [00:17<00:29, 33.0MB/s]\u001b[A\n",
            "Downloading:  33% 473M/1.44G [00:17<00:31, 30.5MB/s]\u001b[A\n",
            "Downloading:  33% 476M/1.44G [00:17<00:33, 29.1MB/s]\u001b[A\n",
            "Downloading:  33% 480M/1.44G [00:17<00:29, 32.5MB/s]\u001b[A\n",
            "Downloading:  34% 484M/1.44G [00:17<00:30, 31.4MB/s]\u001b[A\n",
            "Downloading:  34% 487M/1.44G [00:17<00:32, 29.1MB/s]\u001b[A\n",
            "Downloading:  34% 491M/1.44G [00:17<00:29, 32.0MB/s]\u001b[A\n",
            "Downloading:  34% 494M/1.44G [00:17<00:30, 31.0MB/s]\u001b[A\n",
            "Downloading:  35% 497M/1.44G [00:18<00:32, 28.8MB/s]\u001b[A\n",
            "Downloading:  35% 500M/1.44G [00:18<00:43, 21.5MB/s]\u001b[A\n",
            "Downloading:  35% 505M/1.44G [00:18<00:34, 26.9MB/s]\u001b[A\n",
            "Downloading:  35% 510M/1.44G [00:18<00:28, 32.1MB/s]\u001b[A\n",
            "Downloading:  36% 513M/1.44G [00:18<00:28, 32.7MB/s]\u001b[A\n",
            "Downloading:  36% 517M/1.44G [00:18<00:28, 32.0MB/s]\u001b[A\n",
            "Downloading:  36% 522M/1.44G [00:18<00:25, 36.2MB/s]\u001b[A\n",
            "Downloading:  36% 526M/1.44G [00:18<00:27, 32.7MB/s]\u001b[A\n",
            "Downloading:  37% 529M/1.44G [00:19<00:30, 30.4MB/s]\u001b[A\n",
            "Downloading:  37% 532M/1.44G [00:19<00:31, 29.1MB/s]\u001b[A\n",
            "Downloading:  37% 537M/1.44G [00:19<00:27, 33.0MB/s]\u001b[A\n",
            "Downloading:  37% 540M/1.44G [00:19<00:29, 31.0MB/s]\u001b[A\n",
            "Downloading:  38% 544M/1.44G [00:19<00:32, 27.6MB/s]\u001b[A\n",
            "Downloading:  38% 546M/1.44G [00:19<00:36, 24.5MB/s]\u001b[A\n",
            "Downloading:  38% 551M/1.44G [00:19<00:30, 29.6MB/s]\u001b[A\n",
            "Downloading:  39% 555M/1.44G [00:19<00:26, 33.4MB/s]\u001b[A\n",
            "Downloading:  39% 559M/1.44G [00:20<00:28, 31.4MB/s]\u001b[A\n",
            "Downloading:  39% 563M/1.44G [00:20<00:26, 33.6MB/s]\u001b[A\n",
            "Downloading:  39% 567M/1.44G [00:20<00:27, 31.9MB/s]\u001b[A\n",
            "Downloading:  40% 570M/1.44G [00:20<00:28, 30.2MB/s]\u001b[A\n",
            "Downloading:  40% 574M/1.44G [00:20<00:26, 32.2MB/s]\u001b[A\n",
            "Downloading:  40% 577M/1.44G [00:20<00:28, 30.3MB/s]\u001b[A\n",
            "Downloading:  40% 580M/1.44G [00:20<00:29, 29.5MB/s]\u001b[A\n",
            "Downloading:  40% 584M/1.44G [00:20<00:28, 30.6MB/s]\u001b[A\n",
            "Downloading:  41% 587M/1.44G [00:20<00:28, 30.2MB/s]\u001b[A\n",
            "Downloading:  41% 590M/1.44G [00:21<00:28, 29.4MB/s]\u001b[A\n",
            "Downloading:  41% 593M/1.44G [00:21<00:26, 31.6MB/s]\u001b[A\n",
            "Downloading:  41% 597M/1.44G [00:21<00:28, 30.1MB/s]\u001b[A\n",
            "Downloading:  42% 600M/1.44G [00:21<00:28, 29.3MB/s]\u001b[A\n",
            "Downloading:  42% 603M/1.44G [00:21<00:26, 31.2MB/s]\u001b[A\n",
            "Downloading:  42% 606M/1.44G [00:21<00:26, 31.1MB/s]\u001b[A\n",
            "Downloading:  42% 610M/1.44G [00:21<00:28, 29.4MB/s]\u001b[A\n",
            "Downloading:  43% 614M/1.44G [00:21<00:26, 31.3MB/s]\u001b[A\n",
            "Downloading:  43% 617M/1.44G [00:21<00:26, 31.0MB/s]\u001b[A\n",
            "Downloading:  43% 620M/1.44G [00:22<00:26, 30.5MB/s]\u001b[A\n",
            "Downloading:  43% 623M/1.44G [00:22<00:27, 30.2MB/s]\u001b[A\n",
            "Downloading:  43% 626M/1.44G [00:22<00:28, 28.3MB/s]\u001b[A\n",
            "Downloading:  44% 630M/1.44G [00:22<00:24, 32.6MB/s]\u001b[A\n",
            "Downloading:  44% 634M/1.44G [00:22<00:26, 30.5MB/s]\u001b[A\n",
            "Downloading:  44% 637M/1.44G [00:22<00:27, 29.7MB/s]\u001b[A\n",
            "Downloading:  44% 641M/1.44G [00:22<00:24, 32.5MB/s]\u001b[A\n",
            "Downloading:  45% 644M/1.44G [00:22<00:26, 30.3MB/s]\u001b[A\n",
            "Downloading:  45% 647M/1.44G [00:22<00:26, 29.7MB/s]\u001b[A\n",
            "Downloading:  45% 651M/1.44G [00:23<00:25, 31.6MB/s]\u001b[A\n",
            "Downloading:  45% 654M/1.44G [00:23<00:26, 29.6MB/s]\u001b[A\n",
            "Downloading:  46% 657M/1.44G [00:23<00:26, 29.2MB/s]\u001b[A\n",
            "Downloading:  46% 661M/1.44G [00:23<00:24, 32.1MB/s]\u001b[A\n",
            "Downloading:  46% 664M/1.44G [00:23<00:25, 29.9MB/s]\u001b[A\n",
            "Downloading:  46% 667M/1.44G [00:23<00:26, 29.1MB/s]\u001b[A\n",
            "Downloading:  47% 671M/1.44G [00:23<00:24, 31.8MB/s]\u001b[A\n",
            "Downloading:  47% 674M/1.44G [00:23<00:25, 30.0MB/s]\u001b[A\n",
            "Downloading:  47% 678M/1.44G [00:23<00:26, 29.4MB/s]\u001b[A\n",
            "Downloading:  47% 681M/1.44G [00:24<00:23, 32.1MB/s]\u001b[A\n",
            "Downloading:  48% 685M/1.44G [00:24<00:25, 29.7MB/s]\u001b[A\n",
            "Downloading:  48% 688M/1.44G [00:24<00:25, 29.3MB/s]\u001b[A\n",
            "Downloading:  48% 691M/1.44G [00:24<00:29, 25.4MB/s]\u001b[A\n",
            "Downloading:  48% 695M/1.44G [00:24<00:24, 30.3MB/s]\u001b[A\n",
            "Downloading:  48% 699M/1.44G [00:24<00:23, 31.7MB/s]\u001b[A\n",
            "Downloading:  49% 702M/1.44G [00:24<00:22, 33.3MB/s]\u001b[A\n",
            "Downloading:  49% 706M/1.44G [00:24<00:23, 30.9MB/s]\u001b[A\n",
            "Downloading:  49% 709M/1.44G [00:24<00:24, 30.3MB/s]\u001b[A\n",
            "Downloading:  49% 713M/1.44G [00:25<00:23, 31.4MB/s]\u001b[A\n",
            "Downloading:  50% 716M/1.44G [00:25<00:24, 30.1MB/s]\u001b[A\n",
            "Downloading:  50% 719M/1.44G [00:25<00:24, 29.5MB/s]\u001b[A\n",
            "Downloading:  50% 722M/1.44G [00:25<00:23, 31.0MB/s]\u001b[A\n",
            "Downloading:  50% 725M/1.44G [00:25<00:24, 29.8MB/s]\u001b[A\n",
            "Downloading:  51% 728M/1.44G [00:25<00:24, 29.4MB/s]\u001b[A\n",
            "Downloading:  51% 732M/1.44G [00:25<00:22, 31.1MB/s]\u001b[A\n",
            "Downloading:  51% 735M/1.44G [00:25<00:23, 30.3MB/s]\u001b[A\n",
            "Downloading:  51% 739M/1.44G [00:25<00:23, 29.7MB/s]\u001b[A\n",
            "Downloading:  52% 742M/1.44G [00:26<00:22, 31.0MB/s]\u001b[A\n",
            "Downloading:  52% 745M/1.44G [00:26<00:22, 30.8MB/s]\u001b[A\n",
            "Downloading:  52% 749M/1.44G [00:26<00:21, 32.3MB/s]\u001b[A\n",
            "Downloading:  52% 752M/1.44G [00:26<00:22, 30.3MB/s]\u001b[A\n",
            "Downloading:  52% 755M/1.44G [00:26<00:23, 29.6MB/s]\u001b[A\n",
            "Downloading:  53% 758M/1.44G [00:26<00:24, 27.9MB/s]\u001b[A\n",
            "Downloading:  53% 762M/1.44G [00:26<00:21, 30.9MB/s]\u001b[A\n",
            "Downloading:  53% 765M/1.44G [00:26<00:22, 30.1MB/s]\u001b[A\n",
            "Downloading:  53% 768M/1.44G [00:26<00:22, 30.2MB/s]\u001b[A\n",
            "Downloading:  54% 771M/1.44G [00:27<00:22, 30.0MB/s]\u001b[A\n",
            "Downloading:  54% 775M/1.44G [00:27<00:22, 30.3MB/s]\u001b[A\n",
            "Downloading:  54% 779M/1.44G [00:27<00:20, 31.6MB/s]\u001b[A\n",
            "Downloading:  54% 782M/1.44G [00:27<00:22, 29.8MB/s]\u001b[A\n",
            "Downloading:  54% 785M/1.44G [00:27<00:21, 30.2MB/s]\u001b[A\n",
            "Downloading:  55% 789M/1.44G [00:27<00:20, 31.7MB/s]\u001b[A\n",
            "Downloading:  55% 792M/1.44G [00:27<00:21, 29.7MB/s]\u001b[A\n",
            "Downloading:  55% 796M/1.44G [00:27<00:21, 30.0MB/s]\u001b[A\n",
            "Downloading:  55% 799M/1.44G [00:27<00:20, 31.1MB/s]\u001b[A\n",
            "Downloading:  56% 802M/1.44G [00:28<00:21, 29.4MB/s]\u001b[A\n",
            "Downloading:  56% 806M/1.44G [00:28<00:20, 31.4MB/s]\u001b[A\n",
            "Downloading:  56% 809M/1.44G [00:28<00:20, 30.6MB/s]\u001b[A\n",
            "Downloading:  56% 812M/1.44G [00:28<00:21, 29.9MB/s]\u001b[A\n",
            "Downloading:  57% 816M/1.44G [00:28<00:19, 32.6MB/s]\u001b[A\n",
            "Downloading:  57% 819M/1.44G [00:28<00:21, 29.0MB/s]\u001b[A\n",
            "Downloading:  57% 823M/1.44G [00:28<00:20, 30.1MB/s]\u001b[A\n",
            "Downloading:  57% 827M/1.44G [00:28<00:20, 29.7MB/s]\u001b[A\n",
            "Downloading:  58% 830M/1.44G [00:28<00:20, 29.9MB/s]\u001b[A\n",
            "Downloading:  58% 833M/1.44G [00:29<00:20, 30.2MB/s]\u001b[A\n",
            "Downloading:  58% 836M/1.44G [00:29<00:18, 32.4MB/s]\u001b[A\n",
            "Downloading:  58% 840M/1.44G [00:29<00:21, 27.7MB/s]\u001b[A\n",
            "Downloading:  58% 843M/1.44G [00:29<00:22, 26.4MB/s]\u001b[A\n",
            "Downloading:  59% 847M/1.44G [00:29<00:19, 30.4MB/s]\u001b[A\n",
            "Downloading:  59% 850M/1.44G [00:29<00:18, 31.8MB/s]\u001b[A\n",
            "Downloading:  59% 854M/1.44G [00:29<00:19, 30.6MB/s]\u001b[A\n",
            "Downloading:  60% 858M/1.44G [00:29<00:18, 31.5MB/s]\u001b[A\n",
            "Downloading:  60% 861M/1.44G [00:29<00:18, 31.2MB/s]\u001b[A\n",
            "Downloading:  60% 864M/1.44G [00:30<00:19, 29.9MB/s]\u001b[A\n",
            "Downloading:  60% 868M/1.44G [00:30<00:18, 31.5MB/s]\u001b[A\n",
            "Downloading:  60% 871M/1.44G [00:30<00:18, 30.9MB/s]\u001b[A\n",
            "Downloading:  61% 874M/1.44G [00:30<00:18, 30.5MB/s]\u001b[A\n",
            "Downloading:  61% 877M/1.44G [00:30<00:17, 31.8MB/s]\u001b[A\n",
            "Downloading:  61% 881M/1.44G [00:30<00:18, 29.8MB/s]\u001b[A\n",
            "Downloading:  61% 884M/1.44G [00:30<00:18, 29.9MB/s]\u001b[A\n",
            "Downloading:  62% 887M/1.44G [00:30<00:18, 30.7MB/s]\u001b[A\n",
            "Downloading:  62% 890M/1.44G [00:30<00:18, 29.3MB/s]\u001b[A\n",
            "Downloading:  62% 894M/1.44G [00:31<00:17, 30.7MB/s]\u001b[A\n",
            "Downloading:  62% 897M/1.44G [00:31<00:17, 31.1MB/s]\u001b[A\n",
            "Downloading:  62% 900M/1.44G [00:31<00:18, 29.3MB/s]\u001b[A\n",
            "Downloading:  63% 904M/1.44G [00:31<00:17, 31.2MB/s]\u001b[A\n",
            "Downloading:  63% 907M/1.44G [00:31<00:17, 30.4MB/s]\u001b[A\n",
            "Downloading:  63% 910M/1.44G [00:31<00:17, 30.2MB/s]\u001b[A\n",
            "Downloading:  63% 913M/1.44G [00:31<00:16, 31.6MB/s]\u001b[A\n",
            "Downloading:  64% 916M/1.44G [00:31<00:17, 29.6MB/s]\u001b[A\n",
            "Downloading:  64% 920M/1.44G [00:31<00:17, 30.4MB/s]\u001b[A\n",
            "Downloading:  64% 923M/1.44G [00:32<00:16, 30.6MB/s]\u001b[A\n",
            "Downloading:  64% 926M/1.44G [00:32<00:17, 29.0MB/s]\u001b[A\n",
            "Downloading:  64% 929M/1.44G [00:32<00:18, 27.1MB/s]\u001b[A\n",
            "Downloading:  65% 933M/1.44G [00:32<00:15, 31.9MB/s]\u001b[A\n",
            "Downloading:  65% 937M/1.44G [00:32<00:16, 30.3MB/s]\u001b[A\n",
            "Downloading:  65% 940M/1.44G [00:32<00:16, 30.9MB/s]\u001b[A\n",
            "Downloading:  65% 943M/1.44G [00:32<00:16, 31.0MB/s]\u001b[A\n",
            "Downloading:  66% 946M/1.44G [00:32<00:16, 29.2MB/s]\u001b[A\n",
            "Downloading:  66% 950M/1.44G [00:32<00:15, 31.8MB/s]\u001b[A\n",
            "Downloading:  66% 953M/1.44G [00:33<00:15, 30.7MB/s]\u001b[A\n",
            "Downloading:  66% 956M/1.44G [00:33<00:16, 30.0MB/s]\u001b[A\n",
            "Downloading:  67% 960M/1.44G [00:33<00:15, 31.5MB/s]\u001b[A\n",
            "Downloading:  67% 963M/1.44G [00:33<00:15, 30.2MB/s]\u001b[A\n",
            "Downloading:  67% 966M/1.44G [00:33<00:15, 30.0MB/s]\u001b[A\n",
            "Downloading:  67% 970M/1.44G [00:33<00:14, 32.0MB/s]\u001b[A\n",
            "Downloading:  68% 973M/1.44G [00:33<00:15, 29.5MB/s]\u001b[A\n",
            "Downloading:  68% 976M/1.44G [00:33<00:15, 29.7MB/s]\u001b[A\n",
            "Downloading:  68% 980M/1.44G [00:33<00:15, 30.4MB/s]\u001b[A\n",
            "Downloading:  68% 983M/1.44G [00:34<00:15, 29.5MB/s]\u001b[A\n",
            "Downloading:  68% 986M/1.44G [00:34<00:14, 30.7MB/s]\u001b[A\n",
            "Downloading:  69% 989M/1.44G [00:34<00:15, 28.4MB/s]\u001b[A\n",
            "Downloading:  69% 992M/1.44G [00:34<00:17, 25.1MB/s]\u001b[A\n",
            "Downloading:  69% 997M/1.44G [00:34<00:14, 30.5MB/s]\u001b[A\n",
            "Downloading:  69% 1.00G/1.44G [00:34<00:12, 34.2MB/s]\u001b[A\n",
            "Downloading:  70% 1.00G/1.44G [00:34<00:14, 31.0MB/s]\u001b[A\n",
            "Downloading:  70% 1.01G/1.44G [00:34<00:14, 30.3MB/s]\u001b[A\n",
            "Downloading:  70% 1.01G/1.44G [00:34<00:13, 31.5MB/s]\u001b[A\n",
            "Downloading:  70% 1.02G/1.44G [00:35<00:13, 31.7MB/s]\u001b[A\n",
            "Downloading:  71% 1.02G/1.44G [00:35<00:14, 29.7MB/s]\u001b[A\n",
            "Downloading:  71% 1.02G/1.44G [00:35<00:13, 31.0MB/s]\u001b[A\n",
            "Downloading:  71% 1.03G/1.44G [00:35<00:13, 29.9MB/s]\u001b[A\n",
            "Downloading:  71% 1.03G/1.44G [00:35<00:13, 30.0MB/s]\u001b[A\n",
            "Downloading:  72% 1.03G/1.44G [00:35<00:13, 29.4MB/s]\u001b[A\n",
            "Downloading:  72% 1.04G/1.44G [00:35<00:13, 30.7MB/s]\u001b[A\n",
            "Downloading:  72% 1.04G/1.44G [00:35<00:13, 30.7MB/s]\u001b[A\n",
            "Downloading:  72% 1.04G/1.44G [00:35<00:12, 31.1MB/s]\u001b[A\n",
            "Downloading:  72% 1.04G/1.44G [00:36<00:13, 29.9MB/s]\u001b[A\n",
            "Downloading:  73% 1.05G/1.44G [00:36<00:12, 31.4MB/s]\u001b[A\n",
            "Downloading:  73% 1.05G/1.44G [00:36<00:12, 31.3MB/s]\u001b[A\n",
            "Downloading:  73% 1.05G/1.44G [00:36<00:13, 29.3MB/s]\u001b[A\n",
            "Downloading:  73% 1.06G/1.44G [00:36<00:12, 31.6MB/s]\u001b[A\n",
            "Downloading:  74% 1.06G/1.44G [00:36<00:12, 31.0MB/s]\u001b[A\n",
            "Downloading:  74% 1.06G/1.44G [00:36<00:12, 29.6MB/s]\u001b[A\n",
            "Downloading:  74% 1.07G/1.44G [00:36<00:11, 33.1MB/s]\u001b[A\n",
            "Downloading:  74% 1.07G/1.44G [00:36<00:12, 29.6MB/s]\u001b[A\n",
            "Downloading:  75% 1.08G/1.44G [00:37<00:12, 28.9MB/s]\u001b[A\n",
            "Downloading:  75% 1.08G/1.44G [00:37<00:11, 31.0MB/s]\u001b[A\n",
            "Downloading:  75% 1.08G/1.44G [00:37<00:11, 30.6MB/s]\u001b[A\n",
            "Downloading:  75% 1.09G/1.44G [00:37<00:12, 29.1MB/s]\u001b[A\n",
            "Downloading:  76% 1.09G/1.44G [00:37<00:11, 30.4MB/s]\u001b[A\n",
            "Downloading:  76% 1.09G/1.44G [00:37<00:11, 30.3MB/s]\u001b[A\n",
            "Downloading:  76% 1.10G/1.44G [00:37<00:11, 30.4MB/s]\u001b[A\n",
            "Downloading:  76% 1.10G/1.44G [00:37<00:11, 29.4MB/s]\u001b[A\n",
            "Downloading:  76% 1.10G/1.44G [00:37<00:11, 30.0MB/s]\u001b[A\n",
            "Downloading:  77% 1.11G/1.44G [00:38<00:10, 31.7MB/s]\u001b[A\n",
            "Downloading:  77% 1.11G/1.44G [00:38<00:10, 31.1MB/s]\u001b[A\n",
            "Downloading:  77% 1.11G/1.44G [00:38<00:11, 29.4MB/s]\u001b[A\n",
            "Downloading:  77% 1.12G/1.44G [00:38<00:10, 31.5MB/s]\u001b[A\n",
            "Downloading:  78% 1.12G/1.44G [00:38<00:10, 30.3MB/s]\u001b[A\n",
            "Downloading:  78% 1.12G/1.44G [00:38<00:10, 29.1MB/s]\u001b[A\n",
            "Downloading:  78% 1.13G/1.44G [00:38<00:10, 31.5MB/s]\u001b[A\n",
            "Downloading:  78% 1.13G/1.44G [00:38<00:10, 30.6MB/s]\u001b[A\n",
            "Downloading:  79% 1.13G/1.44G [00:38<00:10, 28.7MB/s]\u001b[A\n",
            "Downloading:  79% 1.14G/1.44G [00:39<00:09, 30.9MB/s]\u001b[A\n",
            "Downloading:  79% 1.14G/1.44G [00:39<00:10, 28.9MB/s]\u001b[A\n",
            "Downloading:  79% 1.14G/1.44G [00:39<00:11, 26.2MB/s]\u001b[A\n",
            "Downloading:  80% 1.15G/1.44G [00:39<00:09, 30.9MB/s]\u001b[A\n",
            "Downloading:  80% 1.15G/1.44G [00:39<00:09, 32.0MB/s]\u001b[A\n",
            "Downloading:  80% 1.15G/1.44G [00:39<00:09, 30.7MB/s]\u001b[A\n",
            "Downloading:  80% 1.16G/1.44G [00:39<00:08, 32.5MB/s]\u001b[A\n",
            "Downloading:  80% 1.16G/1.44G [00:39<00:08, 31.5MB/s]\u001b[A\n",
            "Downloading:  81% 1.16G/1.44G [00:39<00:09, 29.5MB/s]\u001b[A\n",
            "Downloading:  81% 1.17G/1.44G [00:40<00:08, 31.0MB/s]\u001b[A\n",
            "Downloading:  81% 1.17G/1.44G [00:40<00:09, 28.8MB/s]\u001b[A\n",
            "Downloading:  81% 1.17G/1.44G [00:40<00:08, 29.8MB/s]\u001b[A\n",
            "Downloading:  82% 1.18G/1.44G [00:40<00:08, 32.2MB/s]\u001b[A\n",
            "Downloading:  82% 1.18G/1.44G [00:40<00:08, 31.0MB/s]\u001b[A\n",
            "Downloading:  82% 1.18G/1.44G [00:40<00:08, 28.9MB/s]\u001b[A\n",
            "Downloading:  82% 1.19G/1.44G [00:40<00:07, 31.8MB/s]\u001b[A\n",
            "Downloading:  83% 1.19G/1.44G [00:40<00:08, 30.6MB/s]\u001b[A\n",
            "Downloading:  83% 1.19G/1.44G [00:40<00:08, 29.4MB/s]\u001b[A\n",
            "Downloading:  83% 1.20G/1.44G [00:41<00:07, 31.6MB/s]\u001b[A\n",
            "Downloading:  83% 1.20G/1.44G [00:41<00:07, 30.6MB/s]\u001b[A\n",
            "Downloading:  84% 1.20G/1.44G [00:41<00:08, 28.9MB/s]\u001b[A\n",
            "Downloading:  84% 1.21G/1.44G [00:41<00:07, 31.7MB/s]\u001b[A\n",
            "Downloading:  84% 1.21G/1.44G [00:41<00:07, 30.5MB/s]\u001b[A\n",
            "Downloading:  84% 1.21G/1.44G [00:41<00:07, 29.1MB/s]\u001b[A\n",
            "Downloading:  85% 1.22G/1.44G [00:41<00:07, 31.5MB/s]\u001b[A\n",
            "Downloading:  85% 1.22G/1.44G [00:41<00:07, 30.9MB/s]\u001b[A\n",
            "Downloading:  85% 1.22G/1.44G [00:41<00:07, 28.7MB/s]\u001b[A\n",
            "Downloading:  85% 1.23G/1.44G [00:42<00:06, 31.5MB/s]\u001b[A\n",
            "Downloading:  85% 1.23G/1.44G [00:42<00:06, 30.6MB/s]\u001b[A\n",
            "Downloading:  86% 1.24G/1.44G [00:42<00:07, 29.0MB/s]\u001b[A\n",
            "Downloading:  86% 1.24G/1.44G [00:42<00:06, 31.7MB/s]\u001b[A\n",
            "Downloading:  86% 1.24G/1.44G [00:42<00:06, 30.6MB/s]\u001b[A\n",
            "Downloading:  86% 1.25G/1.44G [00:42<00:06, 29.0MB/s]\u001b[A\n",
            "Downloading:  87% 1.25G/1.44G [00:42<00:06, 31.7MB/s]\u001b[A\n",
            "Downloading:  87% 1.25G/1.44G [00:42<00:06, 30.2MB/s]\u001b[A\n",
            "Downloading:  87% 1.26G/1.44G [00:43<00:06, 29.0MB/s]\u001b[A\n",
            "Downloading:  87% 1.26G/1.44G [00:43<00:05, 32.1MB/s]\u001b[A\n",
            "Downloading:  88% 1.26G/1.44G [00:43<00:05, 30.7MB/s]\u001b[A\n",
            "Downloading:  88% 1.27G/1.44G [00:43<00:06, 28.7MB/s]\u001b[A\n",
            "Downloading:  88% 1.27G/1.44G [00:43<00:05, 30.8MB/s]\u001b[A\n",
            "Downloading:  88% 1.27G/1.44G [00:43<00:05, 30.5MB/s]\u001b[A\n",
            "Downloading:  89% 1.28G/1.44G [00:43<00:05, 29.0MB/s]\u001b[A\n",
            "Downloading:  89% 1.28G/1.44G [00:43<00:04, 32.2MB/s]\u001b[A\n",
            "Downloading:  89% 1.28G/1.44G [00:43<00:05, 30.6MB/s]\u001b[A\n",
            "Downloading:  89% 1.29G/1.44G [00:44<00:05, 28.7MB/s]\u001b[A\n",
            "Downloading:  89% 1.29G/1.44G [00:44<00:05, 29.4MB/s]\u001b[A\n",
            "Downloading:  90% 1.29G/1.44G [00:44<00:05, 27.0MB/s]\u001b[A\n",
            "Downloading:  90% 1.30G/1.44G [00:44<00:04, 30.4MB/s]\u001b[A\n",
            "Downloading:  90% 1.30G/1.44G [00:44<00:04, 33.5MB/s]\u001b[A\n",
            "Downloading:  90% 1.30G/1.44G [00:44<00:04, 31.2MB/s]\u001b[A\n",
            "Downloading:  91% 1.31G/1.44G [00:44<00:04, 29.6MB/s]\u001b[A\n",
            "Downloading:  91% 1.31G/1.44G [00:44<00:03, 32.5MB/s]\u001b[A\n",
            "Downloading:  91% 1.31G/1.44G [00:44<00:04, 31.0MB/s]\u001b[A\n",
            "Downloading:  91% 1.32G/1.44G [00:45<00:04, 29.2MB/s]\u001b[A\n",
            "Downloading:  92% 1.32G/1.44G [00:45<00:03, 31.9MB/s]\u001b[A\n",
            "Downloading:  92% 1.33G/1.44G [00:45<00:03, 30.1MB/s]\u001b[A\n",
            "Downloading:  92% 1.33G/1.44G [00:45<00:03, 29.1MB/s]\u001b[A\n",
            "Downloading:  92% 1.33G/1.44G [00:45<00:03, 31.4MB/s]\u001b[A\n",
            "Downloading:  93% 1.34G/1.44G [00:45<00:03, 29.8MB/s]\u001b[A\n",
            "Downloading:  93% 1.34G/1.44G [00:45<00:03, 28.1MB/s]\u001b[A\n",
            "Downloading:  93% 1.34G/1.44G [00:45<00:03, 29.7MB/s]\u001b[A\n",
            "Downloading:  93% 1.35G/1.44G [00:45<00:03, 31.2MB/s]\u001b[A\n",
            "Downloading:  94% 1.35G/1.44G [00:46<00:03, 29.9MB/s]\u001b[A\n",
            "Downloading:  94% 1.35G/1.44G [00:46<00:02, 32.4MB/s]\u001b[A\n",
            "Downloading:  94% 1.36G/1.44G [00:46<00:02, 30.7MB/s]\u001b[A\n",
            "Downloading:  94% 1.36G/1.44G [00:46<00:02, 29.4MB/s]\u001b[A\n",
            "Downloading:  95% 1.36G/1.44G [00:46<00:02, 30.9MB/s]\u001b[A\n",
            "Downloading:  95% 1.37G/1.44G [00:46<00:02, 29.2MB/s]\u001b[A\n",
            "Downloading:  95% 1.37G/1.44G [00:46<00:02, 29.8MB/s]\u001b[A\n",
            "Downloading:  95% 1.37G/1.44G [00:46<00:02, 33.1MB/s]\u001b[A\n",
            "Downloading:  95% 1.38G/1.44G [00:46<00:02, 29.8MB/s]\u001b[A\n",
            "Downloading:  96% 1.38G/1.44G [00:47<00:02, 29.6MB/s]\u001b[A\n",
            "Downloading:  96% 1.38G/1.44G [00:47<00:01, 32.5MB/s]\u001b[A\n",
            "Downloading:  96% 1.39G/1.44G [00:47<00:01, 30.2MB/s]\u001b[A\n",
            "Downloading:  96% 1.39G/1.44G [00:47<00:01, 29.5MB/s]\u001b[A\n",
            "Downloading:  97% 1.39G/1.44G [00:47<00:01, 32.2MB/s]\u001b[A\n",
            "Downloading:  97% 1.40G/1.44G [00:47<00:01, 29.5MB/s]\u001b[A\n",
            "Downloading:  97% 1.40G/1.44G [00:47<00:01, 29.4MB/s]\u001b[A\n",
            "Downloading:  97% 1.40G/1.44G [00:47<00:01, 32.4MB/s]\u001b[A\n",
            "Downloading:  98% 1.41G/1.44G [00:47<00:01, 30.0MB/s]\u001b[A\n",
            "Downloading:  98% 1.41G/1.44G [00:48<00:01, 29.0MB/s]\u001b[A\n",
            "Downloading:  98% 1.41G/1.44G [00:48<00:00, 30.6MB/s]\u001b[A\n",
            "Downloading:  98% 1.42G/1.44G [00:48<00:00, 29.7MB/s]\u001b[A\n",
            "Downloading:  99% 1.42G/1.44G [00:48<00:00, 29.8MB/s]\u001b[A\n",
            "Downloading:  99% 1.42G/1.44G [00:48<00:00, 32.0MB/s]\u001b[A\n",
            "Downloading:  99% 1.43G/1.44G [00:48<00:00, 29.2MB/s]\u001b[A\n",
            "Downloading:  99% 1.43G/1.44G [00:48<00:00, 29.8MB/s]\u001b[A\n",
            "Downloading:  99% 1.43G/1.44G [00:48<00:00, 29.9MB/s]\u001b[A\n",
            "Downloading: 100% 1.44G/1.44G [00:48<00:00, 29.6MB/s]\u001b[A\n",
            "Downloading: 100% 1.44G/1.44G [00:49<00:00, 29.3MB/s]\n",
            "/usr/local/lib/python3.7/dist-packages/torch/nn/_reduction.py:43: UserWarning: size_average and reduce args will be deprecated, please use reduction='sum' instead.\n",
            "  warnings.warn(warning.format(ret))\n",
            "Training examples: 100% 2282/2282 [07:10<00:00,  5.30it/s]\n",
            "Training examples: 100% 632/632 [01:03<00:00, 10.01it/s]\n",
            "cuda memory allocated: 1841516544\n",
            "n_trainable_params: 211923, n_nontrainable_params: 1057200\n",
            "training arguments:\n",
            ">>> model_name: dualgcn\n",
            ">>> dataset: laptop\n",
            ">>> optimizer: <class 'torch.optim.adam.Adam'>\n",
            ">>> initializer: <function xavier_uniform_ at 0x7fb48aad8560>\n",
            ">>> learning_rate: 0.002\n",
            ">>> l2reg: 0.0001\n",
            ">>> num_epoch: 1\n",
            ">>> batch_size: 16\n",
            ">>> log_step: 5\n",
            ">>> embed_dim: 300\n",
            ">>> post_dim: 30\n",
            ">>> pos_dim: 30\n",
            ">>> hidden_dim: 50\n",
            ">>> num_layers: 2\n",
            ">>> polarities_dim: 3\n",
            ">>> input_dropout: 0.7\n",
            ">>> gcn_dropout: 0.1\n",
            ">>> lower: True\n",
            ">>> direct: False\n",
            ">>> loop: True\n",
            ">>> bidirect: True\n",
            ">>> rnn_hidden: 50\n",
            ">>> rnn_layers: 1\n",
            ">>> rnn_dropout: 0.1\n",
            ">>> attention_heads: 1\n",
            ">>> max_length: 85\n",
            ">>> device: cuda\n",
            ">>> seed: 1000\n",
            ">>> weight_decay: 0.0\n",
            ">>> vocab_dir: ./DualGCN/dataset/Laptops_corenlp\n",
            ">>> pad_id: 0\n",
            ">>> parseadj: True\n",
            ">>> parsehead: False\n",
            ">>> cuda: 0\n",
            ">>> losstype: doubleloss\n",
            ">>> alpha: 0.2\n",
            ">>> beta: 0.2\n",
            ">>> pretrained_bert_name: bert-base-uncased\n",
            ">>> adam_epsilon: 1e-08\n",
            ">>> bert_dim: 768\n",
            ">>> bert_dropout: 0.3\n",
            ">>> diff_lr: False\n",
            ">>> bert_lr: 2e-05\n",
            ">>> model_class: <class 'models.dualgcn.DualGCNClassifier'>\n",
            ">>> dataset_file: {'train': './DualGCN/dataset/Laptops_corenlp/train.json', 'test': './DualGCN/dataset/Laptops_corenlp/test.json'}\n",
            ">>> inputs_cols: ['text', 'aspect', 'pos', 'head', 'deprel', 'post', 'mask', 'length', 'adj']\n",
            ">>> post_size: 168\n",
            ">>> pos_size: 46\n",
            ">>>>>>>>>>>>>>>>>>>>>>>>>>>>>>>>>>>>>>>>>>>>>>>>>>>>>>>>>>>>\n",
            "epoch: 0\n",
            ">> saved: ./DualGCN/state_dict/dualgcn_laptop_acc_0.2025_f1_0.1123\n",
            "loss: 1.4111, acc: 0.3125, test_acc: 0.2025, f1: 0.1123\n",
            "loss: 1.3624, acc: 0.2812, test_acc: 0.2025, f1: 0.1123\n",
            ">> saved: ./DualGCN/state_dict/dualgcn_laptop_acc_0.3339_f1_0.2547\n",
            "loss: 1.3323, acc: 0.3125, test_acc: 0.3339, f1: 0.2547\n",
            "loss: 1.4897, acc: 0.2656, test_acc: 0.2152, f1: 0.1289\n",
            "loss: 1.4132, acc: 0.2750, test_acc: 0.2104, f1: 0.1228\n",
            "loss: 1.3235, acc: 0.3021, test_acc: 0.2278, f1: 0.1449\n",
            ">> saved: ./DualGCN/state_dict/dualgcn_laptop_acc_0.5554_f1_0.3970\n",
            "loss: 1.3277, acc: 0.3661, test_acc: 0.5554, f1: 0.3970\n",
            "loss: 1.2807, acc: 0.4062, test_acc: 0.5475, f1: 0.2882\n",
            "loss: 1.3065, acc: 0.4236, test_acc: 0.5491, f1: 0.3335\n",
            "loss: 1.2823, acc: 0.4313, test_acc: 0.5459, f1: 0.2839\n",
            "loss: 1.2700, acc: 0.4375, test_acc: 0.5459, f1: 0.3509\n",
            ">> saved: ./DualGCN/state_dict/dualgcn_laptop_acc_0.5585_f1_0.3650\n",
            "loss: 1.3038, acc: 0.4531, test_acc: 0.5585, f1: 0.3650\n",
            "loss: 1.3025, acc: 0.4471, test_acc: 0.5475, f1: 0.3799\n",
            ">> saved: ./DualGCN/state_dict/dualgcn_laptop_acc_0.5696_f1_0.3848\n",
            "loss: 1.1954, acc: 0.4509, test_acc: 0.5696, f1: 0.3848\n",
            "loss: 1.2793, acc: 0.4625, test_acc: 0.5047, f1: 0.3773\n",
            ">> saved: ./DualGCN/state_dict/dualgcn_laptop_acc_0.5870_f1_0.3970\n",
            "loss: 1.0000, acc: 0.4766, test_acc: 0.5870, f1: 0.3970\n",
            ">> saved: ./DualGCN/state_dict/dualgcn_laptop_acc_0.6013_f1_0.4491\n",
            "loss: 1.3276, acc: 0.4706, test_acc: 0.6013, f1: 0.4491\n",
            "loss: 1.1771, acc: 0.4722, test_acc: 0.5918, f1: 0.4095\n",
            "loss: 1.0523, acc: 0.4803, test_acc: 0.6013, f1: 0.4394\n",
            "loss: 1.1644, acc: 0.4875, test_acc: 0.5285, f1: 0.4103\n",
            ">> saved: ./DualGCN/state_dict/dualgcn_laptop_acc_0.6060_f1_0.4421\n",
            "loss: 1.4401, acc: 0.4881, test_acc: 0.6060, f1: 0.4421\n",
            ">> saved: ./DualGCN/state_dict/dualgcn_laptop_acc_0.6123_f1_0.4746\n",
            "loss: 1.2242, acc: 0.4915, test_acc: 0.6123, f1: 0.4746\n",
            ">> saved: ./DualGCN/state_dict/dualgcn_laptop_acc_0.6218_f1_0.5154\n",
            "loss: 1.4030, acc: 0.4864, test_acc: 0.6218, f1: 0.5154\n",
            ">> saved: ./DualGCN/state_dict/dualgcn_laptop_acc_0.6456_f1_0.5747\n",
            "loss: 1.2152, acc: 0.4922, test_acc: 0.6456, f1: 0.5747\n",
            "loss: 1.0484, acc: 0.4975, test_acc: 0.6187, f1: 0.4997\n",
            "loss: 1.1173, acc: 0.5048, test_acc: 0.6203, f1: 0.4878\n",
            "loss: 1.0012, acc: 0.5139, test_acc: 0.5839, f1: 0.4612\n",
            "loss: 0.8357, acc: 0.5201, test_acc: 0.5886, f1: 0.4501\n",
            "max_test_acc: 0.6455696202531646, max_f1: 0.5746528145052131\n",
            ">> saved: ./DualGCN/state_dict/dualgcn_laptop_acc_0.6456_f1_0.5747\n",
            "############################################################\n",
            "max_test_acc_overall:0.6455696202531646\n",
            "max_f1_overall:0.5746528145052131\n",
            "Precision, Recall and F1-Score...\n",
            "              precision    recall  f1-score   support\n",
            "\n",
            "           0     0.8359    0.8012    0.8182       337\n",
            "           1     0.4000    0.6406    0.4925       128\n",
            "           2     0.5385    0.3353    0.4133       167\n",
            "\n",
            "    accuracy                         0.6456       632\n",
            "   macro avg     0.5915    0.5924    0.5747       632\n",
            "weighted avg     0.6690    0.6456    0.6452       632\n",
            "\n",
            "Confusion Matrix...\n",
            "[[270  45  22]\n",
            " [ 20  82  26]\n",
            " [ 33  78  56]]\n"
          ]
        }
      ]
    },
    {
      "cell_type": "code",
      "source": [
        ""
      ],
      "metadata": {
        "id": "bHyU-8Sx7wEH"
      },
      "execution_count": null,
      "outputs": []
    },
    {
      "cell_type": "code",
      "source": [
        ""
      ],
      "metadata": {
        "id": "1qjIgJkB7wBu"
      },
      "execution_count": null,
      "outputs": []
    },
    {
      "cell_type": "code",
      "source": [
        ""
      ],
      "metadata": {
        "id": "7TTeh4FH7v-x"
      },
      "execution_count": null,
      "outputs": []
    },
    {
      "cell_type": "code",
      "source": [
        ""
      ],
      "metadata": {
        "id": "-8EHBQi77v78"
      },
      "execution_count": null,
      "outputs": []
    },
    {
      "cell_type": "code",
      "source": [
        ""
      ],
      "metadata": {
        "id": "uzxHjuqM7v5C"
      },
      "execution_count": null,
      "outputs": []
    },
    {
      "cell_type": "code",
      "source": [
        ""
      ],
      "metadata": {
        "id": "guHvvZDY7v2c"
      },
      "execution_count": null,
      "outputs": []
    },
    {
      "cell_type": "code",
      "source": [
        ""
      ],
      "metadata": {
        "id": "CVqym_EO7vzU"
      },
      "execution_count": null,
      "outputs": []
    },
    {
      "cell_type": "code",
      "source": [
        ""
      ],
      "metadata": {
        "id": "yfVCx8Yx7vwe"
      },
      "execution_count": null,
      "outputs": []
    },
    {
      "cell_type": "code",
      "source": [
        ""
      ],
      "metadata": {
        "id": "A6J8k2XMBjAM"
      },
      "execution_count": null,
      "outputs": []
    },
    {
      "cell_type": "code",
      "source": [
        ""
      ],
      "metadata": {
        "id": "7I4gcgeUBi9O"
      },
      "execution_count": null,
      "outputs": []
    },
    {
      "cell_type": "code",
      "source": [
        ""
      ],
      "metadata": {
        "id": "enlqeDYHBi6u"
      },
      "execution_count": null,
      "outputs": []
    },
    {
      "cell_type": "code",
      "source": [
        ""
      ],
      "metadata": {
        "id": "GTIMM2XEBi4Q"
      },
      "execution_count": null,
      "outputs": []
    },
    {
      "cell_type": "code",
      "source": [
        ""
      ],
      "metadata": {
        "id": "X390sw72Bi1A"
      },
      "execution_count": null,
      "outputs": []
    },
    {
      "cell_type": "code",
      "source": [
        ""
      ],
      "metadata": {
        "id": "IOTgS3LG6j5P"
      },
      "execution_count": null,
      "outputs": []
    }
  ]
}